{
 "cells": [
  {
   "cell_type": "code",
   "execution_count": null,
   "metadata": {
    "scrolled": true
   },
   "outputs": [],
   "source": [
    "%run heuristics_helper.ipynb\n",
    "%run graph_helper.ipynb"
   ]
  },
  {
   "cell_type": "code",
   "execution_count": null,
   "metadata": {
    "collapsed": true
   },
   "outputs": [],
   "source": [
    "import scipy\n",
    "import numpy as np\n",
    "import matplotlib.pyplot as plt\n",
    "import networkx as nx\n",
    "from itertools import combinations\n",
    "import time\n",
    "import pandas as pd\n",
    "%matplotlib inline"
   ]
  },
  {
   "cell_type": "code",
   "execution_count": null,
   "metadata": {},
   "outputs": [],
   "source": [
    "objFunctions = [obj_disagreement, obj_polarization, obj_sum]"
   ]
  },
  {
   "cell_type": "code",
   "execution_count": null,
   "metadata": {
    "collapsed": true
   },
   "outputs": [],
   "source": [
    "DISAGREEMENT = 0\n",
    "POLARIZATION = 1\n",
    "BOTH = 2"
   ]
  },
  {
   "cell_type": "code",
   "execution_count": null,
   "metadata": {
    "collapsed": true
   },
   "outputs": [],
   "source": [
    "n = 1000\n",
    "d = 0.2\n",
    "k = 1000\n",
    "G = make_adj_matrix(n, d)\n",
    "\n",
    "s = np.random.rand(n, 1)"
   ]
  },
  {
   "cell_type": "markdown",
   "metadata": {},
   "source": [
    "# Testing: Disagreement"
   ]
  },
  {
   "cell_type": "code",
   "execution_count": null,
   "metadata": {},
   "outputs": [],
   "source": [
    "# test to see change in disagreement as k increases\n",
    "(s, s_greedy, max_obj_greedy_arr, s_local_innate, max_obj_local_innate_arr, s_random, \n",
    "            max_obj_random_arr, s_partial_random, max_obj_partial_random_arr, s_mean, max_obj_mean_arr,\n",
    "            s_deg, max_obj_deg_arr, s_w_deg, max_obj_w_deg_arr, s_double_heuristic, \n",
    "            max_obj_double_heuristic_arr, original_obj) = compare_algorithms(n, k, G, DISAGREEMENT, opinions=s)\n",
    "    "
   ]
  },
  {
   "cell_type": "code",
   "execution_count": null,
   "metadata": {
    "collapsed": true
   },
   "outputs": [],
   "source": [
    "objs = [max_obj_greedy_arr, max_obj_mean_arr, max_obj_partial_random_arr, max_obj_random_arr, \n",
    "       max_obj_local_innate_arr, max_obj_deg_arr, max_obj_w_deg_arr, max_obj_double_heuristic_arr]\n",
    "\n",
    "df = pd.DataFrame(objs)\n",
    "df = df.transpose()\n",
    "df.columns = labels"
   ]
  },
  {
   "cell_type": "code",
   "execution_count": null,
   "metadata": {
    "collapsed": true
   },
   "outputs": [],
   "source": [
    "df.to_pickle(\"./bin_pkl/disagreement_1000_1000_2.pkl\")"
   ]
  },
  {
   "cell_type": "markdown",
   "metadata": {},
   "source": [
    "# Testing: Polarization"
   ]
  },
  {
   "cell_type": "code",
   "execution_count": null,
   "metadata": {},
   "outputs": [],
   "source": [
    "# test to see change in polarization as k increases\n",
    "(s, s_greedy, max_obj_greedy_arr, s_local_innate, max_obj_local_innate_arr, s_random, \n",
    "            max_obj_random_arr, s_partial_random, max_obj_partial_random_arr, s_mean, max_obj_mean_arr,\n",
    "            s_deg, max_obj_deg_arr, s_w_deg, max_obj_w_deg_arr, s_double_heuristic, \n",
    "            max_obj_double_heuristic_arr, original_obj) = compare_algorithms(n, k, G, POLARIZATION, opinions=s)\n",
    "    "
   ]
  },
  {
   "cell_type": "code",
   "execution_count": null,
   "metadata": {
    "collapsed": true
   },
   "outputs": [],
   "source": [
    "objs = [max_obj_greedy_arr, max_obj_mean_arr, max_obj_partial_random_arr, max_obj_random_arr, \n",
    "       max_obj_local_innate_arr, max_obj_deg_arr, max_obj_w_deg_arr, max_obj_double_heuristic_arr]\n",
    "\n",
    "df = pd.DataFrame(objs)\n",
    "df = df.transpose()\n",
    "df.columns = labels"
   ]
  },
  {
   "cell_type": "code",
   "execution_count": null,
   "metadata": {
    "collapsed": true
   },
   "outputs": [],
   "source": [
    "df.to_pickle(\"./bin_pkl/polarization_1000_1000_2.pkl\")"
   ]
  },
  {
   "cell_type": "markdown",
   "metadata": {},
   "source": [
    "# Testing: Sum"
   ]
  },
  {
   "cell_type": "code",
   "execution_count": null,
   "metadata": {},
   "outputs": [],
   "source": [
    "# test to see change in disagreement as k increases - should be faster than prior calculation\n",
    "(s, s_greedy, max_obj_greedy_arr, s_local_innate, max_obj_local_innate_arr, s_random, \n",
    "            max_obj_random_arr, s_partial_random, max_obj_partial_random_arr, s_mean, max_obj_mean_arr,\n",
    "            s_deg, max_obj_deg_arr, s_w_deg, max_obj_w_deg_arr, s_double_heuristic, \n",
    "            max_obj_double_heuristic_arr, original_obj) = compare_algorithms(n, k, G, BOTH, opinions=s)\n",
    "    "
   ]
  },
  {
   "cell_type": "code",
   "execution_count": null,
   "metadata": {
    "collapsed": true
   },
   "outputs": [],
   "source": [
    "objs = [max_obj_greedy_arr, max_obj_mean_arr, max_obj_partial_random_arr, max_obj_random_arr, \n",
    "        max_obj_local_innate_arr, max_obj_deg_arr, max_obj_w_deg_arr, max_obj_double_heuristic_arr]\n",
    "\n",
    "df = pd.DataFrame(objs)\n",
    "df = df.transpose()\n",
    "df.columns = labels"
   ]
  },
  {
   "cell_type": "code",
   "execution_count": null,
   "metadata": {
    "collapsed": true
   },
   "outputs": [],
   "source": [
    "df.to_pickle(\"./bin_pkl/sum_1000_1000_2.pkl\")"
   ]
  }
 ],
 "metadata": {
  "kernelspec": {
   "display_name": "Python 3",
   "language": "python",
   "name": "python3"
  },
  "language_info": {
   "codemirror_mode": {
    "name": "ipython",
    "version": 3
   },
   "file_extension": ".py",
   "mimetype": "text/x-python",
   "name": "python",
   "nbconvert_exporter": "python",
   "pygments_lexer": "ipython3",
   "version": "3.6.8"
  },
  "toc": {
   "base_numbering": 1,
   "nav_menu": {
    "height": "38px",
    "width": "262px"
   },
   "number_sections": true,
   "sideBar": true,
   "skip_h1_title": false,
   "title_cell": "Table of Contents",
   "title_sidebar": "Contents",
   "toc_cell": false,
   "toc_position": {},
   "toc_section_display": true,
   "toc_window_display": true
  }
 },
 "nbformat": 4,
 "nbformat_minor": 2
}
