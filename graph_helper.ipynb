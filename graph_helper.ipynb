{
 "cells": [
  {
   "cell_type": "code",
   "execution_count": 2,
   "metadata": {
    "collapsed": true
   },
   "outputs": [],
   "source": [
    "import scipy\n",
    "import numpy as np\n",
    "import matplotlib.pyplot as plt\n",
    "from scipy.stats import beta\n",
    "import networkx as nx\n",
    "%matplotlib inline"
   ]
  },
  {
   "cell_type": "markdown",
   "metadata": {},
   "source": [
    "# Computing objectives"
   ]
  },
  {
   "cell_type": "code",
   "execution_count": null,
   "metadata": {
    "collapsed": true
   },
   "outputs": [],
   "source": [
    "# centers the opinion vector around 0\n",
    "def mean_center(op, n):\n",
    "    ones = np.ones((n, 1))\n",
    "    x = op - (np.dot(np.transpose(op),ones)/n) * ones\n",
    "    return x\n",
    "\n",
    "# compute number of edges, m\n",
    "def num_edges(L, n):\n",
    "    m = 0\n",
    "    for i in range(n):\n",
    "        for j in range(n):\n",
    "            if i > j and L[i,j] < 0:\n",
    "                m += 1            \n",
    "    return m\n",
    "\n",
    "# maximizing (n/m)disagreement + polarization\n",
    "def obj_sum(A, L, op, n, m):\n",
    "    return obj_polarization(A, L, op, n, m) + (n / m)*obj_disagreement(A, L, op, n, m)\n",
    " \n",
    "# maximizing polarization only: \\bar{z}^T \\bar{z}   \n",
    "def obj_polarization(A, L, op, n, m):\n",
    "    op_mean = mean_center(op, n)\n",
    "    z_mean = np.dot(A, op_mean) \n",
    "    return np.dot(np.transpose(z_mean), z_mean)[0,0]          \n",
    "    \n",
    "# maximizing disagreement only: \\bar{z}^T L \\bar{z}\n",
    "def obj_disagreement(A, L, op, n, m):\n",
    "    op_mean = mean_center(op, n)\n",
    "    z_mean = np.dot(A, op_mean)\n",
    "    ans = np.dot(np.dot(np.transpose(z_mean), L), z_mean)[0,0]  \n",
    "    return ans"
   ]
  },
  {
   "cell_type": "code",
   "execution_count": null,
   "metadata": {
    "collapsed": true
   },
   "outputs": [],
   "source": [
    "obj_functions = [obj_disagreement, obj_polarization, obj_sum]"
   ]
  },
  {
   "cell_type": "markdown",
   "metadata": {},
   "source": [
    "# Generating adjacency matrices and opinions"
   ]
  },
  {
   "cell_type": "code",
   "execution_count": null,
   "metadata": {
    "collapsed": true
   },
   "outputs": [],
   "source": [
    "# constructs adjacency matrix for Erdos-Renyi model G(n, p)\n",
    "def make_adj_matrix(l, p, weighted = True):\n",
    "    # randomize upper triangle of the matrix \n",
    "    rand_count = int(0.5*(l**2 - l))\n",
    "    weights = scipy.sparse.random(1, rand_count, density = p).A[0]    \n",
    "    G = np.zeros((l, l))\n",
    "    idx = 0\n",
    "    for i in range(l):\n",
    "        for j in range(l):\n",
    "            if i == j:\n",
    "                # diagonal is 0s\n",
    "                continue\n",
    "            elif i < j:\n",
    "                if weighted:\n",
    "                    G[i][j] = weights[idx]\n",
    "                else:\n",
    "                    if weights[idx] > 0:\n",
    "                        G[i][j] = 1\n",
    "                idx += 1\n",
    "            else:\n",
    "                # adjacency matrix is symmetric \n",
    "                G[i][j] = G[j][i]\n",
    "                \n",
    "    return G"
   ]
  },
  {
   "cell_type": "code",
   "execution_count": null,
   "metadata": {
    "collapsed": true
   },
   "outputs": [],
   "source": [
    "# create graph using stochastic block model\n",
    "# l: length of side of matrix, number of vertices\n",
    "# p1: density within the communities \n",
    "# p2: density of edges between the communities\n",
    "# return arrays of vertices describing the partition into two communities, and adjacency matrix G\n",
    "def make_block_matrix(l, p1, p2):\n",
    "    # create two communities connected with density d1\n",
    "    c1 = np.sort(np.random.choice(l, int(l/2), replace=False))\n",
    "    l1 = len(c1)\n",
    "    \n",
    "    c2 = np.sort(list(set(np.arange(l)) - set(c1)))\n",
    "    l2 = len(c2)\n",
    "\n",
    "    weights1 = scipy.sparse.random(1, int(0.5*l1*(l1 - 1)), density=p1).A[0]\n",
    "    weights2 = scipy.sparse.random(1, int(0.5*l2*(l2 - 1)), density=p1).A[0] \n",
    "    \n",
    "    G = np.zeros((l, l))\n",
    "    idx = 0\n",
    "    for i in c1:\n",
    "        for j in c1:\n",
    "            if i == j:\n",
    "                continue\n",
    "            elif i < j:\n",
    "                G[i][j] = weights1[idx]\n",
    "                idx += 1\n",
    "            else:\n",
    "                G[i][j] = G[j][i]\n",
    "    \n",
    "    idx = 0\n",
    "    for i in c2:\n",
    "        for j in c2:\n",
    "            if i == j:\n",
    "                continue\n",
    "            elif i < j:\n",
    "                G[i][j] = weights2[idx]\n",
    "                idx += 1\n",
    "            else:\n",
    "                G[i][j] = G[j][i]\n",
    "\n",
    "      \n",
    "    # weights for connections in between are of density d2\n",
    "    idx = 0\n",
    "    weights_between = scipy.sparse.random(1, l1*l2, density=p2).A[0]    \n",
    "    for i in c1:\n",
    "        for j in c2:\n",
    "            G[i][j] = weights_between[idx]\n",
    "            idx += 1        \n",
    "    \n",
    "    for i in c2:\n",
    "        for j in c1:\n",
    "            G[i][j] = G[j][i]\n",
    "                \n",
    "    return (c1, c2, G)"
   ]
  },
  {
   "cell_type": "code",
   "execution_count": null,
   "metadata": {
    "collapsed": true
   },
   "outputs": [],
   "source": [
    "# create innate opinion vector with community 1 ~ beta(a, b), community 2 ~ beta(b, a)\n",
    "# a and b parametrize the beta distribution\n",
    "# c1 and c2 describe the partition of vertices into communities using SBM\n",
    "def make_beta_opinions(a, b, n, c1, c2):\n",
    "    s1 = beta.rvs(a, b, size=int(n/2))\n",
    "    s2 = beta.rvs(b, a, size=int(n/2))\n",
    "\n",
    "    s = np.zeros((n, 1))\n",
    "    idx1 = 0\n",
    "    idx2 = 0\n",
    "    for i in range(len(s)):\n",
    "        if i in c1:\n",
    "            s[i] = s1[idx1]\n",
    "            idx1 += 1\n",
    "        else:\n",
    "            s[i] = s2[idx2]\n",
    "            idx2 += 1\n",
    "            \n",
    "    return s"
   ]
  },
  {
   "cell_type": "code",
   "execution_count": null,
   "metadata": {
    "collapsed": true
   },
   "outputs": [],
   "source": [
    "# create graph using preferential attachment model\n",
    "# n: number of vertices the final graph has\n",
    "# n0: starting number of vertices\n",
    "# init_G: the adjacency matrix of the graph to build on\n",
    "def make_pref_attach(n, n0, m, init_G):\n",
    "    # create array containing each vertex's (weighted) degree\n",
    "    links = np.zeros(n)\n",
    "    for i in range(n0):\n",
    "        links[i] = np.sum(init_G[i, :])\n",
    "        \n",
    "    # create n x n adjacency matrix with existing init_G\n",
    "    G = np.zeros((n, n))\n",
    "    G[:n0, :n0] = init_G\n",
    "        \n",
    "    graph_size = n0\n",
    "    for i in range(n0, n):        \n",
    "        # choose m nodes to connect new node to\n",
    "        vs = np.random.choice(graph_size, m, p = links[:graph_size]/sum(links[:graph_size]))\n",
    "        \n",
    "        \n",
    "        # update adjacency matrix and links\n",
    "        for v in vs:\n",
    "            w = np.random.rand()\n",
    "            G[i, v] = w\n",
    "            G[v, i] = w\n",
    "            \n",
    "            links[i] += 1\n",
    "            links[v] += 1\n",
    "        \n",
    "        graph_size += 1\n",
    "        \n",
    "    return G"
   ]
  },
  {
   "cell_type": "markdown",
   "metadata": {},
   "source": [
    "# Visualizing networks"
   ]
  },
  {
   "cell_type": "code",
   "execution_count": null,
   "metadata": {
    "collapsed": true
   },
   "outputs": [],
   "source": [
    "# Visualizes the network of opinions and their edge weights, also coloring in which opinions should be changed.\n",
    "def plot_network(G, op, combo, changed_opinions, initial):\n",
    "    nxG = nx.from_numpy_matrix(G)\n",
    "    \n",
    "    pos = nx.drawing.layout.circular_layout(nxG)\n",
    "\n",
    "    labels= {}\n",
    "    colors= [\"\" for x in range(len(op))]\n",
    "    \n",
    "    for i in range(len(op)):\n",
    "        labels[i] = str(round(op[i][0], 2))\n",
    "        colors[i] = 'c'\n",
    "      \n",
    "    for j in range(len(combo)):\n",
    "        colors[combo[j]] = 'm'\n",
    "        if initial == True:\n",
    "            x,y = pos[combo[j]]\n",
    "            plt.text(x,y+0.15,s=\"s{}' = {}\".format(combo[j] + 1, changed_opinions[j]),horizontalalignment='center')\n",
    "\n",
    "    \n",
    "    # pos=nx.spring_layout(nxG)\n",
    "    nx.draw_networkx(nxG, pos, with_labels=True, labels=labels, node_color=colors, label=\"poop\")\n",
    "    # specify edge labels explicitly\n",
    "    edge_labels=dict([((u,v,),round(d['weight'],3))\n",
    "             for u,v,d in nxG.edges(data=True)])\n",
    "    nx.draw_networkx_edge_labels(nxG, pos,edge_labels=edge_labels)\n",
    "\n",
    "    plot = plt.axis('equal')"
   ]
  },
  {
   "cell_type": "code",
   "execution_count": null,
   "metadata": {
    "collapsed": true
   },
   "outputs": [],
   "source": [
    "# plot initial opinion graph and equilibrium graph side by side\n",
    "def initial_vs_eq_networks(G, n, init_ops, idx, max_combos, changed_opinions):\n",
    "\n",
    "    plt.figure(0)\n",
    "    plot_network(G, init_ops, max_combos[idx], changed_opinions[idx], True)\n",
    "    L = scipy.sparse.csgraph.laplacian(G, normed=False)\n",
    "\n",
    "    s_copy = np.copy(init_ops)\n",
    "    for i in range(len(max_combos[idx])):\n",
    "        s_copy[max_combos[idx][i]] = changed_opinions[idx][i] \n",
    "    z= np.dot(np.linalg.inv((np.eye(n) + L)), s_copy)\n",
    "\n",
    "    plt.figure(1)\n",
    "    plot_network(G, z, max_combos[idx], changed_opinions[idx], False)"
   ]
  },
  {
   "cell_type": "code",
   "execution_count": null,
   "metadata": {
    "collapsed": true,
    "scrolled": false
   },
   "outputs": [],
   "source": [
    "# plot disagreement graphs\n",
    "# The first network depicts the innate opinions. The blue nodes are those that should be adjusted \n",
    "# to be 0 or 1 as indicated. \n",
    "# The second network depicts the equilibrium state after the blue nodes have been altered.\n",
    "def plot_disagreement(G, n, d, s, max_combos, changed_opinions, seed = None):\n",
    "    print(obj_functions[0].__name__)\n",
    "    if seed is None:\n",
    "        initial_vs_eq_networks(G, n, s, 1, max_combos, changed_opinions)\n",
    "    else:\n",
    "        np.random.seed(seed)\n",
    "        G = make_adj_matrix(n, d)\n",
    "        s= np.random.rand(n, 1)\n",
    "        initial_vs_eq_networks(G, n, s, 1, max_combos, changed_opinions)\n",
    "\n"
   ]
  },
  {
   "cell_type": "code",
   "execution_count": null,
   "metadata": {
    "collapsed": true,
    "scrolled": true
   },
   "outputs": [],
   "source": [
    "# plot polarization graphs\n",
    "# The first network depicts the innate opinions. The blue nodes are those that should be adjusted \n",
    "# to be 0 or 1 as indicated. \n",
    "# The second network depicts the equilibrium state after the blue nodes have been altered.\n",
    "def plot_polarization(G, n, d, s, max_combos, changed_opinions, seed = None):\n",
    "    print(obj_functions[1].__name__)\n",
    "    if seed is None:\n",
    "        initial_vs_eq_networks(G, n, s, 0, max_combos, changed_opinions)\n",
    "    else:\n",
    "        np.random.seed(seed)\n",
    "        G = make_adj_matrix(n, d)\n",
    "        s= np.random.rand(n, 1)\n",
    "        initial_vs_eq_networks(G, n, s, 0, max_combos, changed_opinions)\n"
   ]
  },
  {
   "cell_type": "code",
   "execution_count": null,
   "metadata": {
    "collapsed": true
   },
   "outputs": [],
   "source": [
    "# plot sum graphs\n",
    "# The first network depicts the innate opinions. The blue nodes are those that should be adjusted \n",
    "# to be 0 or 1 as indicated. \n",
    "# The second network depicts the equilibrium state after the blue nodes have been altered.\n",
    "def plot_sum(G, n, s, max_combos, changed_opinions):\n",
    "    print(obj_functions[2].__name__)\n",
    "    initial_vs_eq_networks(G, n, s, 2, max_combos, changed_opinions)\n"
   ]
  }
 ],
 "metadata": {
  "kernelspec": {
   "display_name": "Python 3",
   "language": "python",
   "name": "python3"
  },
  "language_info": {
   "codemirror_mode": {
    "name": "ipython",
    "version": 3
   },
   "file_extension": ".py",
   "mimetype": "text/x-python",
   "name": "python",
   "nbconvert_exporter": "python",
   "pygments_lexer": "ipython3",
   "version": "3.6.8"
  },
  "toc": {
   "base_numbering": 1,
   "nav_menu": {},
   "number_sections": true,
   "sideBar": true,
   "skip_h1_title": false,
   "title_cell": "Table of Contents",
   "title_sidebar": "Contents",
   "toc_cell": false,
   "toc_position": {
    "height": "770px",
    "left": "381px",
    "top": "293px",
    "width": "374px"
   },
   "toc_section_display": true,
   "toc_window_display": true
  }
 },
 "nbformat": 4,
 "nbformat_minor": 2
}
