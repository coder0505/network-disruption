{
 "cells": [
  {
   "cell_type": "code",
   "execution_count": 1,
   "metadata": {
    "scrolled": true
   },
   "outputs": [],
   "source": [
    "%run heuristics_helper.ipynb\n",
    "%run graph_helper.ipynb"
   ]
  },
  {
   "cell_type": "code",
   "execution_count": 2,
   "metadata": {
    "collapsed": true
   },
   "outputs": [],
   "source": [
    "import scipy\n",
    "import numpy as np\n",
    "import matplotlib.pyplot as plt\n",
    "import networkx as nx\n",
    "from itertools import combinations\n",
    "import time\n",
    "from scipy.stats import beta\n",
    "import pandas as pd\n",
    "%matplotlib inline"
   ]
  },
  {
   "cell_type": "code",
   "execution_count": 3,
   "metadata": {
    "collapsed": true
   },
   "outputs": [],
   "source": [
    "obj_functions = [obj_disagreement, obj_polarization, obj_sum]"
   ]
  },
  {
   "cell_type": "code",
   "execution_count": 4,
   "metadata": {
    "collapsed": true
   },
   "outputs": [],
   "source": [
    "DISAGREEMENT = 0 \n",
    "POLARIZATION = 1\n",
    "BOTH = 2"
   ]
  },
  {
   "cell_type": "code",
   "execution_count": 5,
   "metadata": {
    "collapsed": true
   },
   "outputs": [],
   "source": [
    "n = 1000\n",
    "d1 = 0.7 # density within communities\n",
    "d2 = 0.1 # density of edges between communities\n",
    "k_range = 1000 #budget\n",
    "(c1, c2, G) = make_block_matrix(n, d1, d2)\n",
    "\n",
    "s = make_beta_opinions(5, 2, n, c1, c2) "
   ]
  },
  {
   "cell_type": "markdown",
   "metadata": {},
   "source": [
    "# Execute nonadaptive heuristics"
   ]
  },
  {
   "cell_type": "code",
   "execution_count": 11,
   "metadata": {
    "collapsed": true
   },
   "outputs": [],
   "source": [
    "# function for performing nonadaptive heuristics\n",
    "def compare_nonadaptive(n, k, c1, c2, G, s, obj_type):\n",
    "    L = scipy.sparse.csgraph.laplacian(G, normed=False)\n",
    "    A = np.linalg.inv(np.identity(n) + L)\n",
    "    m = num_edges(L, n)\n",
    "           \n",
    "    s_5050 = np.copy(s)\n",
    "    s_25 = np.copy(s)\n",
    "    \n",
    "    (to_zero, to_one, max_obj_5050) = choose5050(obj_functions[obj_type], A, L, s_5050, n, m, k, c1, c2)\n",
    "    \n",
    "    (to_zero_c1, to_one_c1, to_zero_c2, to_one_c2, max_obj_25) = choose25(obj_functions[obj_type], \n",
    "                                                                         A, L, s_25, n, m, k, c1, c2)\n",
    "\n",
    "    return (max_obj_5050, max_obj_25)"
   ]
  },
  {
   "cell_type": "markdown",
   "metadata": {},
   "source": [
    "# Testing: Disagreement"
   ]
  },
  {
   "cell_type": "code",
   "execution_count": 12,
   "metadata": {
    "collapsed": true,
    "scrolled": true
   },
   "outputs": [],
   "source": [
    "(s, s_greedy, max_obj_greedy_arr, s_local_innate, max_obj_local_innate_arr, s_random, \n",
    " max_obj_random_arr, s_partial_random, max_obj_partial_random_arr, s_mean, max_obj_mean_arr,\n",
    " s_deg, max_obj_deg_arr, s_w_deg, max_obj_w_deg_arr, s_double_heuristic, \n",
    " max_obj_double_heuristic_arr, original_obj) = compare_algorithms(n, k_range, G, DISAGREEMENT, opinions=s)\n",
    "\n",
    "max_obj_5050_arr = np.zeros(k_range)\n",
    "max_obj_25_arr = np.zeros(k_range)\n",
    "for k in range(k_range):\n",
    "    (obj5050, obj25) = compare_nonadaptive(n, k, c1, c2, G, s, DISAGREEMENT)\n",
    "    max_obj_5050_arr[k] = obj5050\n",
    "    max_obj_25_arr[k] = obj25\n",
    "\n",
    "\n"
   ]
  },
  {
   "cell_type": "code",
   "execution_count": 16,
   "metadata": {
    "collapsed": true
   },
   "outputs": [],
   "source": [
    "objs = [max_obj_greedy_arr, max_obj_mean_arr, max_obj_partial_random_arr, max_obj_random_arr, \n",
    "        max_obj_local_innate_arr, max_obj_deg_arr, max_obj_w_deg_arr, max_obj_double_heuristic_arr, \n",
    "        max_obj_5050_arr, max_obj_25_arr]\n",
    "\n",
    "df = pd.DataFrame(objs)\n",
    "df = df.transpose()\n",
    "df.columns = labels"
   ]
  },
  {
   "cell_type": "code",
   "execution_count": 17,
   "metadata": {
    "collapsed": true
   },
   "outputs": [],
   "source": [
    "df.to_pickle(\"./sbm_pkl/disagreement_1000_1000_6_1_20_2.pkl\")"
   ]
  },
  {
   "cell_type": "markdown",
   "metadata": {},
   "source": [
    "# Testing: Polarization"
   ]
  },
  {
   "cell_type": "code",
   "execution_count": 18,
   "metadata": {
    "collapsed": true,
    "scrolled": true
   },
   "outputs": [],
   "source": [
    "(s, s_greedy, max_obj_greedy_arr, s_local_innate, max_obj_local_innate_arr, s_random, \n",
    "            max_obj_random_arr, s_partial_random, max_obj_partial_random_arr, s_mean, max_obj_mean_arr,\n",
    "            s_deg, max_obj_deg_arr, s_w_deg, max_obj_w_deg_arr, s_double_heuristic, \n",
    "            max_obj_double_heuristic_arr, original_obj) = compare_algorithms(n, k_range, G, POLARIZATION, opinions=s)\n",
    "\n",
    "max_obj_5050_arr = np.zeros(k_range)\n",
    "max_obj_25_arr = np.zeros(k_range)\n",
    "for k in range(k_range):\n",
    "    (obj5050, obj25) = compare_nonadaptive(n, k, c1, c2, G, s, POLARIZATION)\n",
    "    max_obj_5050_arr[k] = obj5050\n",
    "    max_obj_25_arr[k] = obj25"
   ]
  },
  {
   "cell_type": "code",
   "execution_count": 22,
   "metadata": {
    "collapsed": true
   },
   "outputs": [],
   "source": [
    "objs = [max_obj_greedy_arr, max_obj_mean_arr, max_obj_partial_random_arr, max_obj_random_arr, \n",
    "        max_obj_local_innate_arr, max_obj_deg_arr, max_obj_w_deg_arr, max_obj_double_heuristic_arr, \n",
    "        max_obj_5050_arr, max_obj_25_arr]\n",
    "\n",
    "df = pd.DataFrame(objs)\n",
    "df = df.transpose()\n",
    "df.columns = labels"
   ]
  },
  {
   "cell_type": "code",
   "execution_count": 23,
   "metadata": {
    "collapsed": true
   },
   "outputs": [],
   "source": [
    "df.to_pickle(\"./sbm_pkl/polarization_1000_1000_6_1_20_2.pkl\")"
   ]
  },
  {
   "cell_type": "markdown",
   "metadata": {},
   "source": [
    "# Testing: Sum"
   ]
  },
  {
   "cell_type": "code",
   "execution_count": 24,
   "metadata": {
    "collapsed": true
   },
   "outputs": [],
   "source": [
    "(s, s_greedy, max_obj_greedy_arr, s_local_innate, max_obj_local_innate_arr, s_random, \n",
    "            max_obj_random_arr, s_partial_random, max_obj_partial_random_arr, s_mean, max_obj_mean_arr,\n",
    "            s_deg, max_obj_deg_arr, s_w_deg, max_obj_w_deg_arr, s_double_heuristic, \n",
    "            max_obj_double_heuristic_arr, original_obj) = compare_algorithms(n, k_range, G, BOTH, opinions=s)\n",
    "\n",
    "max_obj_5050_arr = np.zeros(k_range)\n",
    "max_obj_25_arr = np.zeros(k_range)\n",
    "for k in range(k_range):\n",
    "    (obj5050, obj25) = compare_nonadaptive(n, k, c1, c2, G, s, BOTH)\n",
    "    max_obj_5050_arr[k] = obj5050\n",
    "    max_obj_25_arr[k] = obj25"
   ]
  },
  {
   "cell_type": "code",
   "execution_count": 27,
   "metadata": {
    "collapsed": true
   },
   "outputs": [],
   "source": [
    "objs = [max_obj_greedy_arr, max_obj_mean_arr, max_obj_partial_random_arr, max_obj_random_arr, \n",
    "        max_obj_local_innate_arr, max_obj_deg_arr, max_obj_w_deg_arr, max_obj_double_heuristic_arr, \n",
    "        max_obj_5050_arr, max_obj_25_arr]\n",
    "\n",
    "df = pd.DataFrame(objs)\n",
    "df = df.transpose()\n",
    "df.columns = labels"
   ]
  },
  {
   "cell_type": "code",
   "execution_count": 28,
   "metadata": {
    "collapsed": true
   },
   "outputs": [],
   "source": [
    "df.to_pickle(\"./sbm_pkl/sum_1000_1000_6_1_20_2.pkl\")"
   ]
  },
  {
   "cell_type": "markdown",
   "metadata": {},
   "source": [
    "# Analysis"
   ]
  },
  {
   "cell_type": "markdown",
   "metadata": {},
   "source": [
    "What sort of vertices are picked by adaptive heuristics with graphs generated using stochastic block model? "
   ]
  },
  {
   "cell_type": "code",
   "execution_count": 15,
   "metadata": {
    "collapsed": true
   },
   "outputs": [],
   "source": [
    "def intersection(a, b):\n",
    "    return [value for value in a if value in b]"
   ]
  },
  {
   "cell_type": "code",
   "execution_count": 16,
   "metadata": {
    "collapsed": true
   },
   "outputs": [],
   "source": [
    "# among the vertices picked, which ones belong to community 1 and which ones belong to community 2?\n",
    "def find_communities(c1, c2, v, first_k):\n",
    "    changed1 = intersection(v[:first_k], c1)\n",
    "    changed2 = intersection(v[:first_k], c2)\n",
    "    return (changed1, changed2)"
   ]
  },
  {
   "cell_type": "code",
   "execution_count": 17,
   "metadata": {
    "collapsed": true
   },
   "outputs": [],
   "source": [
    "# check if node in c1 is connected to anything in c2 and vice versa - call such a node a \"fringe\" node\n",
    "# returns the list of nodes in the other community that given vertex v is connected to\n",
    "def is_fringe_node(c, v, G):\n",
    "    neighbors = np.where(G[int(v),] != 0)[0]\n",
    "    return intersection(neighbors, c)"
   ]
  },
  {
   "cell_type": "code",
   "execution_count": 56,
   "metadata": {},
   "outputs": [
    {
     "name": "stdout",
     "output_type": "stream",
     "text": [
      "9.0\n",
      "1.0204081632653061\n",
      "9.0\n"
     ]
    }
   ],
   "source": [
    "# calculate ratio of # of changed in c1 vs # of changed in c2 (see if there is a consistent imbalance)\n",
    "a = np.arange(10, 100)\n",
    "ratio = np.zeros(len(a))\n",
    "diff = np.zeros(len(a))\n",
    "\n",
    "for i in a:\n",
    "    # replace \"v_greedy_arr\" to analyze other heuristics\n",
    "    v_greedy_arr = list(set(np.where(s_greedy == 0.0)[0]) | set(np.where(s_greedy == 1.0)[0]))\n",
    "    (changed1, changed2) = find_communities(c1, c2, v_greedy_arr, i) \n",
    "    ratio[i - 10] = len(changed1)/len(changed2)\n",
    "    diff[i - 10] = np.abs(len(changed1) - len(changed2))\n",
    "    \n",
    "print(np.max(ratio))\n",
    "print(np.min(ratio))\n",
    "print(np.max(diff))"
   ]
  },
  {
   "cell_type": "code",
   "execution_count": 57,
   "metadata": {
    "collapsed": true
   },
   "outputs": [
    {
     "name": "stdout",
     "output_type": "stream",
     "text": [
      "In the other community, 1 is connected to [13, 75, 90, 94, 98, 107, 111, 147, 171, 208, 219, 229, 250, 254, 260, 266, 272, 344, 397, 408, 419, 426, 501, 511, 520, 561, 587, 610, 611, 617, 671, 674, 682, 719, 751, 759, 814, 836, 892, 910, 966, 976, 979, 992]\n",
      "In the other community, 2 is connected to [17, 70, 121, 131, 141, 147, 153, 157, 191, 204, 205, 208, 215, 271, 288, 304, 311, 315, 333, 346, 358, 360, 375, 382, 383, 394, 399, 484, 489, 511, 514, 519, 529, 558, 571, 588, 589, 610, 626, 653, 662, 671, 693, 714, 760, 789, 797, 810, 815, 825, 837, 868, 877, 888, 904, 906, 935, 939, 987]\n",
      "In the other community, 3 is connected to [15, 18, 33, 56, 77, 88, 90, 95, 98, 102, 175, 194, 204, 206, 217, 229, 250, 316, 320, 335, 367, 371, 408, 419, 462, 499, 517, 570, 586, 589, 592, 600, 612, 619, 662, 671, 675, 681, 682, 736, 757, 775, 832, 871, 883, 904, 935, 977, 978]\n",
      "In the other community, 4 is connected to [26, 28, 33, 34, 62, 75, 119, 121, 124, 133, 149, 165, 177, 184, 194, 207, 235, 245, 250, 288, 292, 304, 319, 333, 346, 348, 359, 371, 383, 414, 423, 426, 455, 516, 564, 578, 616, 634, 647, 681, 693, 751, 772, 780, 797, 807, 827, 871, 876, 891, 977, 980, 988]\n",
      "In the other community, 5 is connected to [20, 42, 43, 47, 75, 90, 121, 122, 133, 137, 149, 182, 205, 206, 239, 266, 320, 343, 359, 387, 408, 417, 423, 445, 468, 470, 475, 486, 500, 515, 553, 576, 577, 596, 608, 616, 627, 634, 644, 647, 670, 674, 697, 703, 709, 723, 736, 762, 781, 812, 920, 925, 926, 937, 953, 959, 977, 987]\n",
      "In the other community, 6 is connected to [0, 53, 80, 100, 117, 119, 177, 199, 206, 211, 216, 226, 229, 242, 247, 252, 278, 290, 300, 330, 349, 355, 376, 455, 486, 517, 576, 612, 647, 660, 693, 711, 730, 740, 742, 760, 777, 807, 852, 942, 958, 993, 998]\n",
      "In the other community, 7 is connected to [36, 57, 149, 155, 204, 206, 242, 245, 250, 252, 281, 285, 288, 298, 344, 359, 371, 387, 401, 430, 442, 501, 526, 532, 564, 590, 611, 618, 619, 633, 714, 734, 736, 743, 759, 795, 857, 861, 884, 888, 912, 915, 929, 940, 942, 949, 968]\n",
      "In the other community, 8 is connected to [0, 10, 13, 26, 95, 107, 129, 133, 141, 163, 185, 191, 235, 254, 268, 290, 304, 315, 339, 345, 492, 504, 520, 573, 589, 626, 629, 630, 651, 694, 703, 706, 730, 776, 777, 780, 794, 795, 861, 877, 884, 889, 892, 922, 928, 935, 936, 937, 976, 981]\n",
      "In the other community, 9 is connected to [0, 36, 48, 65, 100, 185, 226, 243, 256, 324, 355, 381, 397, 409, 415, 429, 434, 442, 444, 484, 490, 495, 500, 503, 516, 517, 543, 561, 569, 571, 573, 578, 592, 634, 670, 693, 704, 714, 759, 795, 801, 806, 871, 885, 910, 916, 920, 946, 959]\n",
      "\n",
      "\n",
      "In the other community, 0 is connected to [6, 8, 9, 16, 37, 67, 81, 84, 154, 167, 172, 190, 231, 251, 265, 297, 302, 305, 327, 329, 338, 356, 388, 390, 440, 449, 476, 482, 498, 524, 534, 552, 567, 568, 574, 602, 603, 604, 615, 642, 649, 665, 684, 717, 718, 729, 733, 758, 766, 769, 779, 786, 824, 875, 890, 944, 970]\n"
     ]
    }
   ],
   "source": [
    "(changed1, changed2) = find_communities(c1, c2, v_greedy_arr, 10)\n",
    "for v in changed1:\n",
    "    print(\"In the other community, {} is connected to {}\".format(v, is_fringe_node(c2, v, G)))\n",
    "\n",
    "print(\"\\n\")\n",
    "\n",
    "for v in changed2:\n",
    "    print(\"In the other community, {} is connected to {}\".format(v, is_fringe_node(c1, v, G)))\n"
   ]
  }
 ],
 "metadata": {
  "kernelspec": {
   "display_name": "Python 3",
   "language": "python",
   "name": "python3"
  },
  "language_info": {
   "codemirror_mode": {
    "name": "ipython",
    "version": 3
   },
   "file_extension": ".py",
   "mimetype": "text/x-python",
   "name": "python",
   "nbconvert_exporter": "python",
   "pygments_lexer": "ipython3",
   "version": "3.6.8"
  },
  "toc": {
   "base_numbering": 1,
   "nav_menu": {
    "height": "38px",
    "width": "262px"
   },
   "number_sections": true,
   "sideBar": true,
   "skip_h1_title": false,
   "title_cell": "Table of Contents",
   "title_sidebar": "Contents",
   "toc_cell": false,
   "toc_position": {},
   "toc_section_display": true,
   "toc_window_display": true
  }
 },
 "nbformat": 4,
 "nbformat_minor": 2
}
