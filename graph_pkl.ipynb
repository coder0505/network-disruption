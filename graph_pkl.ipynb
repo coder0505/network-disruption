{
 "cells": [
  {
   "cell_type": "code",
   "execution_count": null,
   "metadata": {},
   "outputs": [],
   "source": [
    "%run heuristics_helper.ipynb\n",
    "%run graph_helper.ipynb"
   ]
  },
  {
   "cell_type": "code",
   "execution_count": null,
   "metadata": {},
   "outputs": [],
   "source": [
    "import scipy\n",
    "import numpy as np\n",
    "import matplotlib.pyplot as plt\n",
    "import networkx as nx\n",
    "from itertools import combinations\n",
    "import time\n",
    "import pandas as pd\n",
    "%matplotlib inline\n",
    "plt.rcParams.update({'font.size': 10})"
   ]
  },
  {
   "cell_type": "markdown",
   "metadata": {
    "collapsed": true
   },
   "source": [
    "Read pkl and graph performance for each objective. Example for Stochastic Block Model synthetic experiment."
   ]
  },
  {
   "cell_type": "markdown",
   "metadata": {},
   "source": [
    "## Disagreement"
   ]
  },
  {
   "cell_type": "code",
   "execution_count": null,
   "metadata": {
    "collapsed": true
   },
   "outputs": [],
   "source": [
    "df = pd.read_pickle(\"./sbm_pkl/disagreement_1000_1000_7_1_5_2.pkl\")"
   ]
  },
  {
   "cell_type": "code",
   "execution_count": null,
   "metadata": {},
   "outputs": [],
   "source": [
    "df = df.drop(columns=['localized innate', 'double heuristic', 'nonadaptive set half', 'nonadaptive set random'])\n",
    "objs = (df.to_numpy()).T"
   ]
  },
  {
   "cell_type": "code",
   "execution_count": null,
   "metadata": {
    "scrolled": true
   },
   "outputs": [],
   "source": [
    "k = int(df.shape[0]/2)\n",
    "objs = objs[:, :k]\n",
    "\n",
    "labels = [\"greedy\", \"mean opinion\", \"mean opinion randomized\", \"randomized\", \n",
    "          \"max degree\", \"max weighted degree\"]\n",
    "plot_obj(k, objs, labels)\n",
    "plt.ylabel(\"Disagreement\")\n",
    "plt.title(\"Disagreement for stochastic block model\")"
   ]
  },
  {
   "cell_type": "markdown",
   "metadata": {},
   "source": [
    "## Polarization"
   ]
  },
  {
   "cell_type": "code",
   "execution_count": null,
   "metadata": {
    "collapsed": true
   },
   "outputs": [],
   "source": [
    "df = pd.read_pickle(\"./sbm_pkl/polarization_1000_1000_7_1_5_2.pkl\")"
   ]
  },
  {
   "cell_type": "code",
   "execution_count": null,
   "metadata": {},
   "outputs": [],
   "source": [
    "df = df.drop(columns=['localized innate', 'double heuristic', 'nonadaptive set half', 'nonadaptive set random'])\n",
    "objs = (df.to_numpy()).T"
   ]
  },
  {
   "cell_type": "code",
   "execution_count": null,
   "metadata": {},
   "outputs": [],
   "source": [
    "k = int(df.shape[0]/2)\n",
    "objs = objs[:, :k]\n",
    "\n",
    "labels = [\"greedy\", \"mean opinion\", \"mean opinion randomized\", \"randomized\", \n",
    "          \"max degree\", \"max weighted degree\"]\n",
    "plot_obj(k, objs, labels)\n",
    "plt.ylabel(\"Polarization\")\n",
    "plt.title(\"Polarization for stochastic block model\")"
   ]
  },
  {
   "cell_type": "markdown",
   "metadata": {},
   "source": [
    "## Weighted Sum"
   ]
  },
  {
   "cell_type": "code",
   "execution_count": null,
   "metadata": {
    "collapsed": true
   },
   "outputs": [],
   "source": [
    "df = pd.read_pickle(\"./sbm_pkl/sum_1000_1000_7_1_5_2.pkl\")\n"
   ]
  },
  {
   "cell_type": "code",
   "execution_count": null,
   "metadata": {
    "collapsed": true
   },
   "outputs": [],
   "source": [
    "df = df.drop(columns=['localized innate', 'double heuristic', 'nonadaptive set half', 'nonadaptive set random'])"
   ]
  },
  {
   "cell_type": "code",
   "execution_count": null,
   "metadata": {
    "collapsed": true
   },
   "outputs": [],
   "source": [
    "objs = (df.to_numpy()).T"
   ]
  },
  {
   "cell_type": "code",
   "execution_count": null,
   "metadata": {},
   "outputs": [],
   "source": [
    "k = int(df.shape[0]/2)\n",
    "objs = objs[:, :k]\n",
    "\n",
    "labels = [\"greedy\", \"mean opinion\", \"mean opinion randomized\", \"randomized\", \n",
    "          \"max degree\", \"max weighted degree\"]\n",
    "plot_obj(k, objs, labels)\n",
    "plt.ylabel(\"Weighted Sum Index\")\n",
    "plt.title(\"Weighted Sum index for stochastic block model\")"
   ]
  }
 ],
 "metadata": {
  "kernelspec": {
   "display_name": "Python 3",
   "language": "python",
   "name": "python3"
  },
  "language_info": {
   "codemirror_mode": {
    "name": "ipython",
    "version": 3
   },
   "file_extension": ".py",
   "mimetype": "text/x-python",
   "name": "python",
   "nbconvert_exporter": "python",
   "pygments_lexer": "ipython3",
   "version": "3.6.8"
  },
  "toc": {
   "base_numbering": 1,
   "nav_menu": {},
   "number_sections": true,
   "sideBar": true,
   "skip_h1_title": false,
   "title_cell": "Table of Contents",
   "title_sidebar": "Contents",
   "toc_cell": false,
   "toc_position": {},
   "toc_section_display": true,
   "toc_window_display": true
  }
 },
 "nbformat": 4,
 "nbformat_minor": 2
}
