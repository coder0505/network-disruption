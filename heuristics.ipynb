{
 "cells": [
  {
   "cell_type": "code",
   "execution_count": null,
   "metadata": {
    "scrolled": true
   },
   "outputs": [],
   "source": [
    "%run graph_helper.ipynb"
   ]
  },
  {
   "cell_type": "code",
   "execution_count": null,
   "metadata": {
    "collapsed": true
   },
   "outputs": [],
   "source": [
    "obj_functions = [obj_disagreement, obj_polarization, obj_sum]"
   ]
  },
  {
   "cell_type": "code",
   "execution_count": null,
   "metadata": {
    "collapsed": true
   },
   "outputs": [],
   "source": [
    "DISAGREEMENT = 0\n",
    "POLARIZATION = 1\n",
    "BOTH = 2"
   ]
  },
  {
   "cell_type": "code",
   "execution_count": null,
   "metadata": {
    "collapsed": true
   },
   "outputs": [],
   "source": [
    "import scipy\n",
    "import numpy as np\n",
    "import matplotlib.pyplot as plt\n",
    "import networkx as nx\n",
    "from itertools import combinations\n",
    "%matplotlib inline"
   ]
  },
  {
   "cell_type": "markdown",
   "metadata": {},
   "source": [
    "# Pure greedy algorithm"
   ]
  },
  {
   "cell_type": "code",
   "execution_count": null,
   "metadata": {
    "collapsed": true
   },
   "outputs": [],
   "source": [
    "# determines if a given vertex should be set to zero or one, all else equal\n",
    "def maximize_opinion(obj_fun, A, L, s, n, m, v):\n",
    "    # save original value of innate opinion\n",
    "    temp = s[v,0]\n",
    "    \n",
    "    obj = np.zeros(2)\n",
    "    \n",
    "    # objective if set to 0\n",
    "    s[v,0] = 0\n",
    "    obj[0] = obj_fun(A, L, s, n, m)\n",
    "    \n",
    "    # objective if set to 1\n",
    "    s[v, 0] = 1\n",
    "    obj[1] = obj_fun(A, L, s, n, m)\n",
    "   \n",
    "    # restore original opinion\n",
    "    s[v,0] = temp    \n",
    "    \n",
    "    # pick the opinion value that yields bigger objective function value\n",
    "    return (np.argmax(obj), np.max(obj))"
   ]
  },
  {
   "cell_type": "code",
   "execution_count": null,
   "metadata": {
    "collapsed": true
   },
   "outputs": [],
   "source": [
    "# chooses which vertex in the graph should be changed, and if it should be changed to a 0 or a 1.\n",
    "def choose_greedy_vertex(obj_fun, A, L, s, n, m):\n",
    "    # iterate over all the vertices that have not yet been changed\n",
    "    vertices = np.where((s != 0.0) & (s != 1.0))\n",
    "    \n",
    "    # champion is the current best vertex, its opinion {0, 1}, and current best objective\n",
    "    champion = (None, None, 0)\n",
    "    for v in vertices[0]:\n",
    "        # iterate through vertices and find vertex that, when changed to 0 or 1, yields the biggest objFun\n",
    "        (changed_opinion, obj) = maximize_opinion(obj_fun, A, L, s, n, m, v)\n",
    "        if obj >= champion[2]:\n",
    "            champion = (v, changed_opinion, obj)\n",
    "    \n",
    "    return champion"
   ]
  },
  {
   "cell_type": "markdown",
   "metadata": {},
   "source": [
    "# Innate/local heuristics"
   ]
  },
  {
   "cell_type": "markdown",
   "metadata": {},
   "source": [
    "Localized innate greedy algorithm (disagreement):\n",
    "\n",
    "We propose a computationally simple greedy algorithm for solving our problem of finding a subset of changed opinions that maximizes disagreement. For each $i$ from $1$ to $k$, we choose $v_i$ such that:\n",
    "\n",
    "$$v_i = argmax_{v \\in V - \\hat{s}} \\max \\left(\\sum_{e: u-v} w_e(1 - s_u)^2, \\sum_{e: u-v} w_e s_u^2 \\right) $$"
   ]
  },
  {
   "cell_type": "code",
   "execution_count": null,
   "metadata": {
    "collapsed": true
   },
   "outputs": [],
   "source": [
    "# determines if value of opinion at v should be set to 0 or 1 to maximize local disagreement\n",
    "def maximize_local_disagreement(A, L, s, n, m, v):\n",
    "    local_obj_arr = np.zeros(2)\n",
    "    \n",
    "    for i in range(len(L[v,])):\n",
    "        if i != v:\n",
    "            local_obj_arr[0] += -1*L[v, i] * s[i,0] * s[i,0]\n",
    "            local_obj_arr[1] += -1*L[v, i] * (1.0 - s[i,0])*(1.0 - s[i,0])\n",
    "            \n",
    "            \n",
    "    new_op = np.argmax(local_obj_arr)\n",
    "    local_obj = local_obj_arr[new_op]\n",
    "    temp = s[v, 0]\n",
    "    s[v, 0] = new_op\n",
    "    obj = obj_functions[DISAGREEMENT](A, L, s, n, m)\n",
    "    s[v, 0] = temp\n",
    "        \n",
    "    return (new_op, local_obj, obj)"
   ]
  },
  {
   "cell_type": "code",
   "execution_count": null,
   "metadata": {
    "collapsed": true
   },
   "outputs": [],
   "source": [
    "# maximizing innate polarization only: \\bar{s}^T \\bar{s}\n",
    "def obj_innate_polarization(op, n):\n",
    "    op_mean = mean_center(op, n)\n",
    "    return np.dot(np.transpose(op_mean), op_mean)[0,0]"
   ]
  },
  {
   "cell_type": "markdown",
   "metadata": {},
   "source": [
    "Innate greedy algorithm (polarization):\n",
    "\n",
    "For each $i$ from $1$ to $k$, we choose $v_i$ such that:\n",
    "\n",
    "$$v_i = argmax_{v \\in V - \\hat{s}} \\max \\left(\\bar{s}_1^T \\bar{s}_1, \\bar{s}_0^T \\bar{s}_0 \\right) $$"
   ]
  },
  {
   "cell_type": "code",
   "execution_count": null,
   "metadata": {
    "collapsed": true
   },
   "outputs": [],
   "source": [
    "# determines if value of opinion at v should be set to 0 or 1 to maximize innate polarization \n",
    "def maximize_innate_polarization(A, L, s, n, m, v):\n",
    "    innate_obj_arr = np.zeros(2)\n",
    "    \n",
    "    temp = s[v, 0]\n",
    "    \n",
    "    s[v, 0] = 0\n",
    "    innate_obj_arr[0] = obj_innate_polarization(s, len(s))\n",
    "    \n",
    "    s[v, 0] = 1\n",
    "    innate_obj_arr[1] = obj_innate_polarization(s, len(s))\n",
    "    \n",
    "    new_op = np.argmax(innate_obj_arr)\n",
    "    innate_obj = innate_obj_arr[new_op]\n",
    "    s[v, 0] = new_op\n",
    "    obj = obj_functions[POLARIZATION](A, L, s, n, m)\n",
    "    s[v, 0] = temp\n",
    "    \n",
    "    return (new_op, innate_obj, obj)"
   ]
  },
  {
   "cell_type": "code",
   "execution_count": null,
   "metadata": {
    "collapsed": true
   },
   "outputs": [],
   "source": [
    "# same heuristic as above, just calculating objective function for sum of both polarization and disagreement\n",
    "def maximize_innate_polarization_sum(A, L, s, n, m, v):\n",
    "    innate_obj_arr = np.zeros(2)\n",
    "    \n",
    "    temp = s[v, 0]\n",
    "    \n",
    "    s[v, 0] = 0\n",
    "    innate_obj_arr[0] = obj_innate_polarization(s, len(s))\n",
    "    \n",
    "    s[v, 0] = 1\n",
    "    innate_obj_arr[1] = obj_innate_polarization(s, len(s))\n",
    "    \n",
    "    new_op = np.argmax(innate_obj_arr)\n",
    "    innate_obj = innate_obj_arr[new_op]\n",
    "    s[v, 0] = new_op\n",
    "    obj = obj_functions[BOTH](A, L, s, n, m)\n",
    "    s[v, 0] = temp\n",
    "    \n",
    "    return (new_op, innate_obj, obj)"
   ]
  },
  {
   "cell_type": "code",
   "execution_count": null,
   "metadata": {
    "collapsed": true
   },
   "outputs": [],
   "source": [
    "# finds the opinion node that, when changed to 0 or 1, \n",
    "# maximizes local disagreement given all else the same in the graph\n",
    "def choose_innate_vertex(obj_fun, A, L, s, n, m, obj_type):\n",
    "    # iterate over all the vertices that have not yet been changed\n",
    "    vertices = np.where((s != 0.0) & (s != 1.0))\n",
    "    \n",
    "    # current best vertex, its opinion {0, 1}, \"innate\" objective, and objective\n",
    "    champion = (None, None, 0, 0)\n",
    "    \n",
    "    if obj_type == DISAGREEMENT:\n",
    "        for v in vertices[0]:\n",
    "            (changed_opinion, local_obj, obj) = maximize_local_disagreement(A, L, s, n, m, v)\n",
    "            \n",
    "            if local_obj > champion[2]:\n",
    "                champion = (v, changed_opinion, local_obj, obj)\n",
    "                \n",
    "    elif obj_type == POLARIZATION:\n",
    "        for v in vertices[0]:\n",
    "            (changed_opinion, innate_obj, obj) = maximize_innate_polarization(A, L, s, n, m, v)\n",
    "        \n",
    "            if innate_obj > champion[2]:\n",
    "                champion = (v, changed_opinion, innate_obj, obj)\n",
    "                \n",
    "    else:\n",
    "        for v in vertices[0]:\n",
    "            (changed_opinion, innate_obj, obj) = maximize_innate_polarization_sum(A, L, s, n, m, v)\n",
    "        \n",
    "            if innate_obj > champion[2]:\n",
    "                champion = (v, changed_opinion, innate_obj, obj)\n",
    "\n",
    "    return (champion[0], champion[1], champion[3])"
   ]
  },
  {
   "cell_type": "markdown",
   "metadata": {},
   "source": [
    "# Complete randomization"
   ]
  },
  {
   "cell_type": "code",
   "execution_count": null,
   "metadata": {
    "collapsed": true
   },
   "outputs": [],
   "source": [
    "def choose_random(obj_fun, A, L, s, n, m):\n",
    "    vertices = np.where((s != 0.0) & (s != 1.0))    \n",
    "        \n",
    "    # randomly select vertex\n",
    "    v = np.random.choice(vertices[0])\n",
    "    \n",
    "    # randomly set to 0 or 1\n",
    "    changed_opinion = np.random.randint(0, 2)\n",
    "    s[v, 0] = changed_opinion\n",
    "    \n",
    "    obj = obj_fun(A, L, s, n, m)\n",
    "    \n",
    "    return (v, changed_opinion, obj)"
   ]
  },
  {
   "cell_type": "markdown",
   "metadata": {},
   "source": [
    "# Mean opinion heuristic (complete)"
   ]
  },
  {
   "cell_type": "code",
   "execution_count": null,
   "metadata": {
    "collapsed": true
   },
   "outputs": [],
   "source": [
    "# determines if value of opinion at v should be set to 0 or 1 to maximize objective function (rigorous)\n",
    "def maximize_01(obj_fun, A, L, s, v, m):\n",
    "    obj = np.zeros(2)\n",
    "    \n",
    "    temp = s[v, 0]\n",
    "    \n",
    "    s[v, 0] = 0\n",
    "    obj[0] = obj_fun(A, L, s, len(s), m)\n",
    "    \n",
    "    s[v, 0] = 1\n",
    "    obj[1] = obj_fun(A, L, s, len(s), m)\n",
    "\n",
    "    s[v, 0] = temp\n",
    "    \n",
    "    return (np.argmax(obj), np.max(obj))\n",
    "\n",
    "# choose vertex whos opinion is closest to the mean of all vertices, and set to 0 or 1 depending on what maximizes\n",
    "# objective function\n",
    "def choose_mean(obj_fun, A, L, s, n, m):\n",
    "    vertices = np.where((s != 0.0) & (s != 1.0))\n",
    "        \n",
    "    avg = np.mean(s)\n",
    "    v = vertices[0][np.argmin(np.absolute(s[vertices[0], 0] - avg))]\n",
    "   \n",
    "    (changed_opinion, obj) = maximize_01(obj_fun, A, L, s, v, m)\n",
    "        \n",
    "    return (v, changed_opinion, obj)"
   ]
  },
  {
   "cell_type": "markdown",
   "metadata": {},
   "source": [
    "# Mean opinion heuristic (randomized)"
   ]
  },
  {
   "cell_type": "code",
   "execution_count": null,
   "metadata": {
    "collapsed": true
   },
   "outputs": [],
   "source": [
    "# choose the vertex whos opinion is closest to the mean of all vertices, and randomly set to 0 or 1\n",
    "def choose_partial_random(obj_fun, A, L, s, n, m):\n",
    "    vertices = np.where((s != 0.0) & (s != 1.0))\n",
    "    \n",
    "    avg = np.mean(s)\n",
    "    v = vertices[0][np.argmin(np.absolute(s[vertices[0], 0] - avg))]\n",
    "        \n",
    "    changed_opinion = np.random.randint(0, 2)\n",
    "    \n",
    "    s[v, 0] = changed_opinion\n",
    "    obj = obj_fun(A, L, s, n, m)\n",
    "            \n",
    "    return (v, changed_opinion, obj)"
   ]
  },
  {
   "cell_type": "markdown",
   "metadata": {},
   "source": [
    "Consider other methods of choosing opinion to be $0$ or $1$."
   ]
  },
  {
   "cell_type": "markdown",
   "metadata": {},
   "source": [
    "$$\\sum_{i = 1}^n \\sum_{j = i + 1}^n w_{ij} (z_i - z_j) ((I + L)^{-1}_{ix} - (I + L)^{-1}_{jx}) $$"
   ]
  },
  {
   "cell_type": "code",
   "execution_count": null,
   "metadata": {
    "collapsed": true
   },
   "outputs": [],
   "source": [
    "# set vertex to 0 or 1 as to maximize an expression obtained from simplification of change in disagreement\n",
    "# see above expression\n",
    "def first_term_disagreement(obj_fun, A, L, s, v, m):\n",
    "    z = np.dot(A, s)\n",
    "    n = len(s)\n",
    "    total = 0.0\n",
    "    for i in range(n):\n",
    "        for j in range(i + 1, n):\n",
    "            total += (-L[i,j])*(z[i] - z[j])*(A[i, v] - A[j, v])\n",
    "            \n",
    "    if total < 0:\n",
    "        s[v, 0] = 0\n",
    "        obj = obj_fun(A, L, s, len(s), m)\n",
    "        return(0, obj)\n",
    "    else:\n",
    "        s[v, 0] = 1\n",
    "        obj = obj_fun(A, L, s, len(s), m)\n",
    "        return(1, obj)"
   ]
  },
  {
   "cell_type": "markdown",
   "metadata": {},
   "source": [
    "$$\\sum_{i=1}^n \\left((I + L)^{-1}_{ix} - \\frac{1}{n} \\right) \\left(z_i - \\frac{1}{n}\\sum_{a = 1}^n z_a \\right)$$"
   ]
  },
  {
   "cell_type": "code",
   "execution_count": null,
   "metadata": {
    "collapsed": true
   },
   "outputs": [],
   "source": [
    "# set vertex to 0 or 1 as to maximize an expression obtained from simplification of change in disagreement\n",
    "# see above expression\n",
    "def first_term_polarization(obj_fun, A, L, s, v, m):\n",
    "    z = np.dot(A, s)\n",
    "    n = len(s)\n",
    "    total = 0.0\n",
    "    for i in range(n):\n",
    "        total += (A[i, v] - (1.0/n))*(z[i] - (sum(z)/n))\n",
    "            \n",
    "    if total < 0:\n",
    "        s[v, 0] = 0\n",
    "        obj = obj_fun(A, L, s, len(s), m)\n",
    "        return(0, obj)\n",
    "    else:\n",
    "        s[v, 0] = 1\n",
    "        obj = obj_fun(A, L, s, len(s), m)\n",
    "        return(1, obj)"
   ]
  },
  {
   "cell_type": "code",
   "execution_count": null,
   "metadata": {
    "collapsed": true
   },
   "outputs": [],
   "source": [
    "def first_term_sum(obj_fun, A, L, s, v, m):\n",
    "    z = np.dot(A, s)\n",
    "    n = len(s)\n",
    "    total = 0.0\n",
    "    \n",
    "    for i in range(n):\n",
    "        for j in range(i + 1, n):\n",
    "            total += (-L[i,j])*(z[i] - z[j])*(A[i, v] - A[j, v])\n",
    "    \n",
    "    for i in range(n):\n",
    "        total += (A[i, v] - (1.0/n))*(z[i] - (sum(z)/n))\n",
    "      \n",
    "    \n",
    "    if total < 0:\n",
    "        s[v, 0] = 0\n",
    "        obj = obj_fun(A, L, s, len(s), m)\n",
    "        return(0, obj)\n",
    "    else:\n",
    "        s[v, 0] = 1\n",
    "        obj = obj_fun(A, L, s, len(s), m)\n",
    "        return(1, obj)    "
   ]
  },
  {
   "cell_type": "code",
   "execution_count": null,
   "metadata": {
    "collapsed": true
   },
   "outputs": [],
   "source": [
    "# a heuristic for determining if the mean vertex should be changed to a 0 or 1, depending on its neighbors\n",
    "# a localized innate measure as well - may perform better since only the 0 or 1 is being changed\n",
    "def neighbors_01_disagreement(obj_fun, A, L, s, v, m):\n",
    "    # normalize neigbors\n",
    "    weight_sum = np.sum(np.abs(L[v,]))/2\n",
    "    normalized_neighbors = np.abs(L[v,])/weight_sum\n",
    "    \n",
    "    normalized_opinions = s[:,0]*2 - 1\n",
    "    \n",
    "    # compute bias function\n",
    "    neighbor_bias = np.dot(normalized_neighbors, normalized_opinions) \n",
    "    - normalized_neighbors[v]*normalized_opinions[v]\n",
    "    \n",
    "    if neighbor_bias > 0:\n",
    "        s[v, 0] = 0\n",
    "        obj = obj_fun(A, L, s, len(s), m)\n",
    "        return (0, obj)\n",
    "    else:\n",
    "        s[v, 0] = 1\n",
    "        obj = obj_fun(A, L, s, len(s), m)\n",
    "        return (1, obj)\n",
    "    \n",
    "    \n",
    "def neighbors_01_polarization(obj_fun, A, L, s, v, m):\n",
    "    # normalize neigbors\n",
    "    weight_sum = np.sum(np.abs(L[v,]))/2\n",
    "    normalized_neighbors = np.abs(L[v,])/weight_sum\n",
    "    \n",
    "    normalized_opinions = s[:,0]*2 - 1\n",
    "    \n",
    "    # compute \"bias\" function\n",
    "    neighbor_bias = np.dot(normalized_neighbors, normalized_opinions) \n",
    "    - normalized_neighbors[v]*normalized_opinions[v]\n",
    "    \n",
    "    if neighbor_bias > 0:\n",
    "        s[v, 0] = 1\n",
    "        obj = obj_fun(A, L, s, len(s), m)\n",
    "        return (1, obj)\n",
    "    else:\n",
    "        s[v, 0] = 0\n",
    "        obj = obj_fun(A, L, s, len(s), m)\n",
    "        return (0, obj)"
   ]
  },
  {
   "cell_type": "code",
   "execution_count": null,
   "metadata": {
    "collapsed": true
   },
   "outputs": [],
   "source": [
    "# choose vertex whose opinion is closest to the mean of all vertices, and set to 0 or 1 depending on what maximizes\n",
    "# objective function\n",
    "def choose_mean_set_opinion(obj_fun, A, L, s, n, m, obj_type):\n",
    "    vertices = np.where((s != 0.0) & (s != 1.0))\n",
    "    v = vertices[0][np.argmin(np.absolute(s[vertices[0], 0] - 0.5))]\n",
    "    if obj_type == DISAGREEMENT:\n",
    "        (changed_opinion, obj) = first_term_disagreement(obj_fun, A, L, s, v, m)  \n",
    "    elif obj_type == POLARIZATION:\n",
    "        (changed_opinion, obj) = first_term_polarization(obj_fun, A, L, s, v, m)  \n",
    "    else:\n",
    "        (changed_opinion, obj) = first_term_sum(obj_fun, A, L, s, v, m)\n",
    "        \n",
    "    return (v, changed_opinion, obj)"
   ]
  },
  {
   "cell_type": "code",
   "execution_count": null,
   "metadata": {
    "collapsed": true
   },
   "outputs": [],
   "source": [
    "# note: refactored, not called anywhere yet (replace)\n",
    "def choose_mean_neighbors_opinion(obj_fun, A, L, s, n, m, obj_type):\n",
    "    vertices = np.where((s != 0.0) & (s != 1.0))\n",
    "    \n",
    "    v = vertices[0][np.argmin(np.absolute(s[vertices[0], 0] - 0.5))]\n",
    "    if obj_type == DISAGREEMENT:\n",
    "        (changed_opinion, obj) = neighbors_01_disagreement(obj_fun, A, L, s, v, m)\n",
    "    elif obj_type == POLARIZATION:\n",
    "        (changed_opinion, obj) = neighbors_01_polarization(obj_fun, A, L, s, v, m)\n",
    "    else:\n",
    "        raise Exception(\"Invalid objective type.\")\n",
    "        \n",
    "    return (v, changed_opinion, obj)"
   ]
  },
  {
   "cell_type": "markdown",
   "metadata": {},
   "source": [
    "# Max (weighted) degree heuristic"
   ]
  },
  {
   "cell_type": "code",
   "execution_count": null,
   "metadata": {
    "collapsed": true
   },
   "outputs": [],
   "source": [
    "def degree(idx, n, L):\n",
    "    # compute number of edges\n",
    "    deg = 0\n",
    "    for j in range(n):\n",
    "        if idx != j and L[idx, j] < 0:\n",
    "            deg += 1\n",
    "                \n",
    "    return deg\n",
    "\n",
    "# pick the vertex that has the greatest degree\n",
    "def choose_max_deg(obj_fun, A, L, s, n, m):\n",
    "    vertices = np.where ((s != 0.0) & (s != 1.0))\n",
    "    \n",
    "    b = np.array(list(map(lambda x: degree(x, n, L), vertices[0])))\n",
    "    biggest_deg = np.random.choice(np.flatnonzero(b == b.max()))\n",
    "        \n",
    "    v = vertices[0][biggest_deg]\n",
    "    \n",
    "    (changed_opinion, obj) = maximize_01(obj_fun, A, L, s, v, m)\n",
    "\n",
    "    return (v, changed_opinion, obj)"
   ]
  },
  {
   "cell_type": "code",
   "execution_count": null,
   "metadata": {
    "collapsed": true
   },
   "outputs": [],
   "source": [
    "def weighted_degree(idx, n, L):\n",
    "    return L[idx, idx]\n",
    "\n",
    "# pick the vertex that has the greatest sum of weights\n",
    "def choose_max_weighted_deg(obj_fun, A, L, s, n, m):\n",
    "    vertices = np.where ((s != 0.0) & (s != 1.0))\n",
    "    \n",
    "    b = np.array(list(map(lambda x: weighted_degree(x, n, L), vertices[0])))\n",
    "    biggest_deg = np.random.choice(np.flatnonzero(b == b.max()))\n",
    "        \n",
    "    v = vertices[0][biggest_deg]\n",
    "    \n",
    "    (changed_opinion, obj) = maximize_01(obj_fun, A, L, s, v, m)\n",
    "\n",
    "    return (v, changed_opinion, obj)"
   ]
  },
  {
   "cell_type": "markdown",
   "metadata": {},
   "source": [
    "# Non-adaptive heuristics (for stochastic block model)"
   ]
  },
  {
   "cell_type": "code",
   "execution_count": null,
   "metadata": {
    "collapsed": true
   },
   "outputs": [],
   "source": [
    "# change k/2 of community 1 to 1 and k/2 of community 2 to 0\n",
    "def choose5050(obj_fun, A, L, s, n, m, k, c1, c2):\n",
    "    to_zero = np.random.choice(c1, int(k/2))\n",
    "    to_one = np.random.choice(c2, k - int(k/2))\n",
    "    \n",
    "    s[to_zero] = 1\n",
    "    s[to_one] = 0\n",
    "    max_obj_50 = obj_fun(A, L, s, n, m)\n",
    "        \n",
    "    return (to_zero, to_one, max_obj_50)"
   ]
  },
  {
   "cell_type": "code",
   "execution_count": null,
   "metadata": {
    "collapsed": true
   },
   "outputs": [],
   "source": [
    "# change k/4 of community 1 to 0, k/4 to 1\n",
    "# change k/4 of community 2 to 0, k/4 to 1\n",
    "def choose25(obj_fun, A, L, s, n, m, k, c1, c2):\n",
    "    to_zero_c1 = np.random.choice(c1, int(k/4))\n",
    "    to_zero_c2 = np.random.choice(c2, int(k/4))\n",
    "\n",
    "    to_one_c1 = np.random.choice(np.setdiff1d(c1, to_zero_c1), int(k/4))\n",
    "    to_one_c2 = np.random.choice(np.setdiff1d(c2, to_zero_c2), int(k/4))\n",
    "    \n",
    "    s[to_zero_c1] = 0\n",
    "    s[to_zero_c2] = 0\n",
    "    s[to_one_c1] = 1\n",
    "    s[to_one_c2] = 1\n",
    "    max_obj_25 = obj_fun(A, L, s, n, m)\n",
    "\n",
    "    return (to_zero_c1, to_one_c1, to_zero_c1, to_zero_c2, max_obj_25)"
   ]
  }
 ],
 "metadata": {
  "kernelspec": {
   "display_name": "Python 3",
   "language": "python",
   "name": "python3"
  },
  "language_info": {
   "codemirror_mode": {
    "name": "ipython",
    "version": 3
   },
   "file_extension": ".py",
   "mimetype": "text/x-python",
   "name": "python",
   "nbconvert_exporter": "python",
   "pygments_lexer": "ipython3",
   "version": "3.6.8"
  },
  "toc": {
   "base_numbering": 1,
   "nav_menu": {},
   "number_sections": true,
   "sideBar": true,
   "skip_h1_title": false,
   "title_cell": "Table of Contents",
   "title_sidebar": "Contents",
   "toc_cell": false,
   "toc_position": {},
   "toc_section_display": true,
   "toc_window_display": true
  }
 },
 "nbformat": 4,
 "nbformat_minor": 2
}
