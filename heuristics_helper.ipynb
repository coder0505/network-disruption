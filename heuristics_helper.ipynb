{
 "cells": [
  {
   "cell_type": "code",
   "execution_count": null,
   "metadata": {
    "collapsed": true
   },
   "outputs": [],
   "source": [
    "%run graph_helper.ipynb\n",
    "%run heuristics.ipynb"
   ]
  },
  {
   "cell_type": "code",
   "execution_count": null,
   "metadata": {
    "collapsed": true
   },
   "outputs": [],
   "source": [
    "import scipy\n",
    "import numpy as np\n",
    "import matplotlib.pyplot as plt\n",
    "import networkx as nx\n",
    "from itertools import combinations\n",
    "import time\n",
    "from scipy.stats import beta\n",
    "%matplotlib inline"
   ]
  },
  {
   "cell_type": "code",
   "execution_count": null,
   "metadata": {},
   "outputs": [],
   "source": [
    "obj_functions = [obj_disagreement, obj_polarization, obj_sum]"
   ]
  },
  {
   "cell_type": "code",
   "execution_count": null,
   "metadata": {
    "collapsed": true
   },
   "outputs": [],
   "source": [
    "DISAGREEMENT = 0\n",
    "POLARIZATION = 1\n",
    "BOTH = 2"
   ]
  },
  {
   "cell_type": "markdown",
   "metadata": {},
   "source": [
    "# Helper functions for measuring heuristic performance"
   ]
  },
  {
   "cell_type": "code",
   "execution_count": null,
   "metadata": {
    "collapsed": true
   },
   "outputs": [],
   "source": [
    "def compare_algorithms(n, k, G, obj_type, opinions=None):\n",
    "    if opinions is None:\n",
    "        s = np.random.rand(n, 1) # if not specified, create random innate opinion vector\n",
    "    else:\n",
    "        s = opinions\n",
    "\n",
    "    L = scipy.sparse.csgraph.laplacian(G, normed=False)\n",
    "    A = np.linalg.inv(np.identity(n) + L)\n",
    "    m = num_edges(L, n)\n",
    "    \n",
    "    # create copies of innate opinion vector to be used in each heuristic\n",
    "    # v: k-length array indicating what indices of vertices are changed at kth step\n",
    "    # op_hat: k-length array indicating if the vertex is changed to 0 or 1\n",
    "    # max_obj: k-length array indicating the objective function value (polarization or disagreement)\n",
    "    s_greedy = np.copy(s)\n",
    "    s_local_innate = np.copy(s)\n",
    "    s_random = np.copy(s)\n",
    "    s_partial_random = np.copy(s)\n",
    "    s_mean = np.copy(s)\n",
    "    s_deg = np.copy(s)\n",
    "    s_w_deg = np.copy(s)\n",
    "    s_double_heuristic = np.copy(s)\n",
    "    \n",
    "    v_greedy_arr = np.zeros(k)\n",
    "    op_hat_greedy_arr = np.zeros(k)\n",
    "    max_obj_greedy_arr = np.zeros(k)\n",
    "    \n",
    "    v_local_innate_arr = np.zeros(k)\n",
    "    op_hat_local_innate_arr = np.zeros(k)\n",
    "    max_obj_local_innate_arr = np.zeros(k)\n",
    "    \n",
    "    v_random_arr = np.zeros(k)\n",
    "    op_hat_random_arr = np.zeros(k)\n",
    "    max_obj_random_arr = np.zeros(k)\n",
    "    \n",
    "    v_partial_random_arr = np.zeros(k)\n",
    "    op_hat_partial_random_arr = np.zeros(k)\n",
    "    max_obj_partial_random_arr = np.zeros(k)\n",
    "    \n",
    "    v_mean_arr = np.zeros(k)\n",
    "    op_hat_mean_arr = np.zeros(k)\n",
    "    max_obj_mean_arr = np.zeros(k)\n",
    "    \n",
    "    v_deg_arr = np.zeros(k)\n",
    "    op_hat_deg_arr = np.zeros(k)\n",
    "    max_obj_deg_arr = np.zeros(k)\n",
    "    \n",
    "    v_w_deg_arr = np.zeros(k)\n",
    "    op_hat_w_deg_arr = np.zeros(k)\n",
    "    max_obj_w_deg_arr = np.zeros(k)\n",
    "    \n",
    "    v_double_heuristic_arr = np.zeros(k)\n",
    "    op_hat_double_heuristic_arr = np.zeros(k)\n",
    "    max_obj_double_heuristic_arr = np.zeros(k)\n",
    "\n",
    "    # populate above arrays by trying various heuristics over G for k vertex budget (adaptively)\n",
    "    for i in range(k):\n",
    "        (v_greedy, op_hat_greedy, max_obj_greedy) = choose_greedy_vertex(\n",
    "            obj_functions[obj_type], A, L, s_greedy, n, m)\n",
    "        s_greedy[v_greedy] = op_hat_greedy\n",
    "        v_greedy_arr[i] = v_greedy\n",
    "        op_hat_greedy_arr[i] = op_hat_greedy\n",
    "        max_obj_greedy_arr[i] = max_obj_greedy\n",
    "        \n",
    "        (v_local_innate, op_hat_local_innate, max_obj_local_innate) = choose_innate_vertex(\n",
    "            obj_functions[obj_type], A, L, s_local_innate, n, m, obj_type)\n",
    "        s_local_innate[v_local_innate] = op_hat_local_innate\n",
    "        v_local_innate_arr[i] = v_local_innate\n",
    "        op_hat_local_innate_arr[i] = op_hat_local_innate\n",
    "        max_obj_local_innate_arr[i] = max_obj_local_innate\n",
    "            \n",
    "        (v_random, op_hat_random, max_obj_random) = choose_random(\n",
    "            obj_functions[obj_type], A, L, s_random, n, m)\n",
    "        s_random[v_random] = op_hat_random\n",
    "        v_random_arr[i] = v_random\n",
    "        op_hat_random_arr[i] = op_hat_random\n",
    "        max_obj_random_arr[i] = max_obj_random\n",
    "        \n",
    "        (v_partial_random, op_hat_partial_random, max_obj_partial_random) = choose_partial_random(\n",
    "            obj_functions[obj_type], A, L, s_partial_random, n, m)\n",
    "        s_partial_random[v_partial_random] = op_hat_partial_random  \n",
    "        v_partial_random_arr[i] = v_partial_random\n",
    "        op_hat_partial_random_arr[i] = op_hat_partial_random\n",
    "        max_obj_partial_random_arr[i] = max_obj_partial_random\n",
    "        \n",
    "        (v_mean, op_hat_mean, max_obj_mean) = choose_mean(obj_functions[obj_type], A, L, s_mean, n, m)\n",
    "        s_mean[v_mean] = op_hat_mean \n",
    "        v_mean_arr[i] = v_mean\n",
    "        op_hat_mean_arr[i] = op_hat_mean\n",
    "        max_obj_mean_arr[i] = max_obj_mean\n",
    "        \n",
    "        (v_deg, op_hat_deg, max_obj_deg) = choose_max_deg(obj_functions[obj_type], A, L, s_deg, n, m)\n",
    "        s_deg[v_deg] = op_hat_deg\n",
    "        v_deg_arr[i] = v_deg\n",
    "        op_hat_deg_arr[i] = op_hat_deg\n",
    "        max_obj_deg_arr[i] = max_obj_deg\n",
    "        \n",
    "        (v_w_deg, op_hat_w_deg, max_obj_w_deg) = choose_max_weighted_deg(\n",
    "            obj_functions[obj_type], A, L, s_w_deg, n, m)\n",
    "        s_w_deg[v_w_deg] = op_hat_w_deg\n",
    "        v_w_deg_arr[i] = v_w_deg\n",
    "        op_hat_w_deg_arr[i] = op_hat_w_deg\n",
    "        max_obj_w_deg_arr[i] = max_obj_w_deg\n",
    "        \n",
    "        (v_double_heuristic, op_hat_double_heuristic, max_obj_double_heuristic) = choose_mean_set_opinion(\n",
    "            obj_functions[obj_type], A, L, s_double_heuristic, n, m, obj_type)\n",
    "        s_double_heuristic[v_double_heuristic] = op_hat_double_heuristic\n",
    "        v_double_heuristic_arr[i] = v_double_heuristic\n",
    "        op_hat_double_heuristic_arr[i] = op_hat_double_heuristic\n",
    "        max_obj_double_heuristic_arr[i] = max_obj_double_heuristic\n",
    "    \n",
    "        original_obj = obj_functions[obj_type](A, L, s, n, m)\n",
    "\n",
    "    \n",
    "    return (s, s_greedy, max_obj_greedy_arr, s_local_innate, max_obj_local_innate_arr, s_random, \n",
    "            max_obj_random_arr, s_partial_random, max_obj_partial_random_arr, s_mean, max_obj_mean_arr,\n",
    "            s_deg, max_obj_deg_arr, s_w_deg, max_obj_w_deg_arr, s_double_heuristic, \n",
    "            max_obj_double_heuristic_arr, original_obj)"
   ]
  },
  {
   "cell_type": "code",
   "execution_count": null,
   "metadata": {
    "collapsed": true
   },
   "outputs": [],
   "source": [
    "# Test compare_algorithms on a binomial random graph.\n",
    "def test_random_graph(n, d, k, obj_type, s = None, G = None):\n",
    "    if G is None:\n",
    "        G = make_adj_matrix(n, d)\n",
    "    \n",
    "    (s, s_greedy, max_obj_greedy_arr, s_local_innate, max_obj_local_innate_arr, s_random, \n",
    "            max_obj_random_arr, s_partial_random, max_obj_partial_random_arr, s_mean, max_obj_mean_arr,\n",
    "            s_deg, max_obj_deg_arr, s_w_deg, max_obj_w_deg_arr, s_double_heuristic, \n",
    "            max_obj_double_heuristic_arr, original_obj) = compare_algorithms(n, k, G, obj_type, opinions = s)\n",
    "    \n",
    "    \n",
    "\n",
    "    print(\"For k = {}:\".format(k))\n",
    "    print(\"Innate opinions: \\n {} \\n\".format(s))\n",
    "    \n",
    "    print(\"Greedy algorithm:\")\n",
    "    print(\"---------------------------------\")\n",
    "    print(\"New innate opinion vector: \\n {}\".format(s_greedy))\n",
    "    print(\"Objective function: {} \\n\".format(max_obj_greedy_arr[k-1]))\n",
    "\n",
    "    print(\"---------------------------------\")\n",
    "    print(\"Localized innate:\")\n",
    "    print(\"---------------------------------\")\n",
    "    print(\"New innate opinion vector: \\n {}\".format(s_local_innate))\n",
    "    print(\"Objective function: {} \\n\".format(max_obj_local_innate_arr[k-1]))\n",
    "\n",
    "    print(\"---------------------------------\")\n",
    "    print(\"Randomization:\")\n",
    "    print(\"---------------------------------\")\n",
    "    print(\"New innate opinion vector: \\n {}\".format(s_random))\n",
    "    print(\"Objective function: {} \\n\".format(max_obj_random_arr[k-1]))\n",
    "\n",
    "    print(\"---------------------------------\")\n",
    "    print(\"Mean opinion with partial randomization:\")\n",
    "    print(\"---------------------------------\")\n",
    "    print(\"New innate opinion vector: \\n {}\".format(s_partial_random))\n",
    "    print(\"Objective function: {} \\n\".format(max_obj_partial_random_arr[k-1]))\n",
    "\n",
    "    print(\"---------------------------------\")\n",
    "    print(\"Mean opinion:\")\n",
    "    print(\"---------------------------------\")\n",
    "    print(\"New innate opinion vector: \\n {}\".format(s_mean))\n",
    "    print(\"Objective function: {} \\n\".format(max_obj_mean_arr[k-1]))\n",
    "\n",
    "    print(\"---------------------------------\")\n",
    "    print(\"Max degree:\")\n",
    "    print(\"---------------------------------\")\n",
    "    print(\"New innate opinion vector: \\n {}\".format(s_deg))\n",
    "    print(\"Objective function: {} \\n\".format(max_obj_deg_arr[k-1]))\n",
    "\n",
    "    print(\"---------------------------------\")\n",
    "    print(\"Max weighted degree:\")\n",
    "    print(\"---------------------------------\")\n",
    "    print(\"New innate opinion vector: \\n {}\".format(s_w_deg))\n",
    "    print(\"Objective function: {} \\n\".format(max_obj_w_deg_arr[k-1]))\n",
    "\n",
    "    print(\"---------------------------------\")\n",
    "    print(\"Double heuristic:\")\n",
    "    print(\"---------------------------------\")\n",
    "    print(\"New innate opinion vector: \\n {}\".format(s_double_heuristic))\n",
    "    print(\"Objective function: {} \\n\".format(max_obj_double_heuristic_arr[k-1]))\n",
    "\n",
    "    print(\"Original objective: {}\".format(original_obj))"
   ]
  },
  {
   "cell_type": "code",
   "execution_count": null,
   "metadata": {
    "collapsed": true
   },
   "outputs": [],
   "source": [
    "# test_random_graph(10, 0.3, 2, DISAGREEMENT)"
   ]
  },
  {
   "cell_type": "code",
   "execution_count": null,
   "metadata": {
    "collapsed": true
   },
   "outputs": [],
   "source": [
    "# plots performance of heuristics over k\n",
    "def plot_obj(k, objs, labels):\n",
    "    ks = np.arange(1, k + 1)\n",
    "    plt.figure(figsize = (6, 4))\n",
    "    lines = []\n",
    "    for obj in objs:\n",
    "        line, = plt.plot(ks, obj)\n",
    "        lines.append(line)\n",
    "        \n",
    "    plt.xlabel(\"k\")\n",
    "    plt.legend(lines, labels)"
   ]
  }
 ],
 "metadata": {
  "kernelspec": {
   "display_name": "Python 3",
   "language": "python",
   "name": "python3"
  },
  "language_info": {
   "codemirror_mode": {
    "name": "ipython",
    "version": 3
   },
   "file_extension": ".py",
   "mimetype": "text/x-python",
   "name": "python",
   "nbconvert_exporter": "python",
   "pygments_lexer": "ipython3",
   "version": "3.6.8"
  },
  "toc": {
   "base_numbering": 1,
   "nav_menu": {
    "height": "38px",
    "width": "262px"
   },
   "number_sections": true,
   "sideBar": true,
   "skip_h1_title": false,
   "title_cell": "Table of Contents",
   "title_sidebar": "Contents",
   "toc_cell": false,
   "toc_position": {},
   "toc_section_display": true,
   "toc_window_display": true
  }
 },
 "nbformat": 4,
 "nbformat_minor": 2
}
